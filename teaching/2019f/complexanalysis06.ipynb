{
 "cells": [
  {
   "cell_type": "markdown",
   "metadata": {
    "slideshow": {
     "slide_type": "skip"
    }
   },
   "source": [
    "<a href=\"https://shiroyasu.github.io/index.html\">home</a> &#155;&#155; <a href=\"https://shiroyasu.github.io/teaching/index.html\">Teaching</a> &#155;&#155; <a href=\"https://shiroyasu.github.io/teaching/2019f/ca-mpsca.html\">2019 Complex Analysis</a>> &#155;&#155;"
   ]
  },
  {
   "cell_type": "markdown",
   "metadata": {
    "slideshow": {
     "slide_type": "slide"
    }
   },
   "source": [
    "# 複素関数論 (6) #\n",
    "\n",
    "## 複素関数の線積分 ##"
   ]
  },
  {
   "cell_type": "markdown",
   "metadata": {
    "slideshow": {
     "slide_type": "slide"
    }
   },
   "source": [
    "### 複素数平面内の曲線 ###\n",
    "\n",
    "- 変数 $t (a\\leqq t\\leqq b)$ の関数 $x(t), y(t)$ に対し, $z(t)=x(t)+i\\,y(t)$ は複素数平面内の曲線を定める. このとき, $z(a)$ をこの曲線の始点といい,  $z(b)$ を終点という.\n",
    "- 曲線 $z(t)=x(t)+i\\,y(t)$ に対し, $x(t), y(t)$ が微分可能で, $x'(t), y'(t)$ が連続であるとき, この曲線は<b>滑らかである</b>という.\n",
    "- 曲線 $z(t)$の微分  $z'(t)=x'(t)+i\\,y'(t)$ は, 点 $z(t)$ において曲線に接するベクトルである."
   ]
  },
  {
   "cell_type": "markdown",
   "metadata": {
    "slideshow": {
     "slide_type": "slide"
    }
   },
   "source": [
    "### 曲線の演算 ###\n",
    "\n",
    "- 曲線 $C : z(t), a\\leqq t\\leqq b$ に対し, $w(t)=z(a+b-t),  a\\leqq t\\leqq b$ と定めると, これらは曲線としては同じであるが, 始点と終点が逆である. このとき, $w(t)$ を「$C$と向きが逆の曲線」とよび, $-C$ と表す.\n",
    "- 2つの曲線 $C_1 : z_1(t), a_1\\leqq t\\leqq b_1$ と $C_2 : z_2(t), a_2\\leqq t\\leqq b_2$ に対し, $z_1(b_1)=z_2(a_2)$ のとき, これらを繋げて1つの曲線 $C : z(t), a_1\\leqq t\\leqq b_1+(b_2-a_2)$ を, 次のように定める;\n",
    "$$\n",
    "z(t)=\\left\\{\n",
    "\\begin{array}{ll}z_1(t)&a_1\\leqq t\\leqq b_1\\\\z_2(t-b_1+a_2)&b_1\\leqq t\\leqq b_1+(b_2-a_2)\\end{array}\n",
    "\\right.\n",
    "$$\n",
    "これを $C_1+C_2$ と表す.\n",
    "- 有限個の滑らかな曲線 $C_1, C_2,\\ldots, C_k$ を繋げた曲線 $C_1+C_2+\\cdots+C_k$を「区分的に滑らかな曲線」という."
   ]
  },
  {
   "cell_type": "markdown",
   "metadata": {
    "slideshow": {
     "slide_type": "slide"
    }
   },
   "source": [
    "### 複素積分の定義 ###\n",
    "\n",
    "- 複素関数 $f(z)$ と複素平面内の曲線 $C : z(t), a\\leqq t\\leqq b$ に対して定まる量;\n",
    "$$\n",
    "\\int_C f(z)\\,dz=\\int^b_a f(z(t))\\,z'(t)\\,dt\n",
    "$$\n",
    "を「曲線 $C$ に沿っての<b>複素積分</b>」という.\n",
    "- この曲線 $C$ を複素積分の<b>積分経路</b>という.\n",
    "- $C=C_1+C_2+\\cdots+C_k$ のときは, \n",
    "$$\n",
    "\\int_C f(z)\\,dz=\\sum_{i=1}^k\\int_{C_i} f(z)\\,dz\n",
    "$$\n",
    "と定める.\n",
    "- $\\displaystyle \\int_{-C}f(z)\\,dz=- \\int_{C}f(z)\\,dz$ が成り立つ."
   ]
  },
  {
   "cell_type": "markdown",
   "metadata": {
    "slideshow": {
     "slide_type": "slide"
    }
   },
   "source": [
    "### 複素積分の性質 ###\n",
    "\n",
    "- 複素積分は積分経路 $C$ のパラメーターのとり方に依らない.\n",
    "- $f(z)$ がある領域内で正則で, 不定積分 $F(z)$ が存在するとき,\n",
    "$$\n",
    "\\int_C f(z)\\,dz=F(\\beta)-F(\\alpha)\n",
    "$$\n",
    "が成り立つ（ただし, $\\alpha$ は $C$ の始点で, $\\beta$ は終点）.\n",
    "つまり, 複素積分は積分経路の始点と終点にのみ依存する（その間の経路には依らない）."
   ]
  },
  {
   "cell_type": "markdown",
   "metadata": {
    "slideshow": {
     "slide_type": "slide"
    }
   },
   "source": [
    "（証明） 仮定は次の2つである;\n",
    "<ol>\n",
    "    <li> $f(z)$ の原始関数 $F(z)$ が存在する.</li>\n",
    "    <li>$F(z)$ は正則関数である.</li>\n",
    "</ol>\n",
    "\n",
    "仮定2. より, $F(z)=U(x,y)+V(x,y)\\,i$ とおくと, $U(x,y), V(x,y)$ はコーシー・リーマンの方程式を満たすので,\n",
    "$$\n",
    "U_x=V_y,\\quad U_y=-V_x\n",
    "$$\n",
    "が成り立つ.\n",
    "\n",
    "さらに, 仮定1. より,\n",
    "\\begin{align*}\n",
    "f(z)=u(x,y)+v(x,y)\\,i\n",
    "=F'(z)\n",
    "=&U_x(x,y)+V_x(x,y)\\,i\\\\\n",
    "=&V_y(x,y)-U_y(x,y)\\,i\n",
    "\\end{align*}\n",
    "が成り立つので, 実部と虚部を比較することにより,\n",
    "$$\n",
    "\\left\\{\\begin{array}{l}u=U_x\\\\v=V_x\\end{array}\\right.\\qquad\n",
    "\\left\\{\\begin{array}{l}u=V_y\\\\v=-U_y\\end{array}\\right.\n",
    "$$\n",
    "得る.\n",
    "\n",
    "ここで, $f(z)$ を曲線 $C : z(t)=x(t)+y(t)\\,i$, $a\\leqq t \\leqq b$ に沿って複素積分すると\n",
    "\\begin{align*}\n",
    "\\int_C f(z)\\,dz\n",
    "=&\\int^b_a f(z(t))\\,z'(t)\\,dt\\\\\n",
    "=&\\int^b_a (u(x(t),y(t))+v(x(t),y(t))\\,i)(x'(t)+y'(t)\\,i)\\,dt\\\\\n",
    "=&\\int^b_a \\{(u(x(t),y(t))\\,x'(t)-v(x(t),y(t))\\,y'(t))+(v(x(t),y(t))\\,x'(t)+u(x(t),y(t))\\,y'(t))\\,i\\}\\,dt\\\\\n",
    "=&\\int^b_a \\{(U_x(x(t),y(t))\\,x'(t)+U_y(x(t),y(t))\\,y'(t))+(V_x(x(t),y(t))\\,x'(t)+V_y(x(t),y(t))\\,y'(t))\\,i\\}\\,dt\\\\\n",
    "=&\\int^b_a \\left\\{\\frac{d}{dt}U(x(t),y(t))+\\frac{d}{dt}V(x(t),y(t))\\,i\\right\\}\\,dt\\\\\n",
    "=&\\left[U(x(t),y(t))+V(x(t),y(t))\\,i\\right]^{t=b}_{t=a}\\\\\n",
    "=&\\left[F(z(t))\\right]^{t=b}_{t=a}\\\\\n",
    "=&\\left[F(z)\\right]^{z=\\beta}_{z=\\alpha}\\qquad (\\alpha=z(a), \\beta=z(b))\n",
    "\\end{align*}\n",
    "となる.\n",
    "なお, 式変形の途中で, （2変数関数の）合成関数の微分の公式を使った."
   ]
  },
  {
   "cell_type": "markdown",
   "metadata": {
    "slideshow": {
     "slide_type": "subslide"
    }
   },
   "source": [
    "#### 合成関数の微分 ####\n",
    "\n",
    "2変数関数 $f(x,y)$ と, 2つの1変数関数 $x=\\varphi(t), y=\\psi(t)$ との合成関数\n",
    "$$\n",
    "f(\\varphi(t), \\psi(t))\n",
    "$$\n",
    "は独立変数 $t$ の1変数関数である.\n",
    "この関数の導関数は\n",
    "$$\n",
    "\\frac{d}{dt}f(\\varphi(t), \\psi(t))=f(\\varphi(t), \\psi(t))\\,\\varphi'(t)+f(\\varphi(t), \\psi(t))\\,\\psi'(t)\n",
    "$$\n",
    "となる."
   ]
  }
 ],
 "metadata": {
  "celltoolbar": "Slideshow",
  "kernelspec": {
   "display_name": "Wolfram Language 12",
   "language": "Wolfram Language",
   "name": "wolframlanguage12"
  },
  "language_info": {
   "codemirror_mode": "python",
   "file_extension": ".m",
   "mimetype": "application/vnd.wolfram.m",
   "name": "Wolfram Language",
   "pygments_lexer": "python",
   "version": "12.0"
  }
 },
 "nbformat": 4,
 "nbformat_minor": 2
}
