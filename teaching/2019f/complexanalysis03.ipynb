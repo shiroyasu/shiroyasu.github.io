{
 "cells": [
  {
   "cell_type": "markdown",
   "metadata": {
    "slideshow": {
     "slide_type": "skip"
    }
   },
   "source": [
    "<a href=\"https://shiroyasu.github.io/index.html\">home</a> &#155;&#155; <a href=\"https://shiroyasu.github.io/teaching/index.html\">Teaching</a> &#155;&#155; <a href=\"https://shiroyasu.github.io/teaching/2019f/ca-mpsca.html\">2019 Complex Analysis</a>> &#155;&#155;"
   ]
  },
  {
   "cell_type": "markdown",
   "metadata": {
    "slideshow": {
     "slide_type": "slide"
    }
   },
   "source": [
    "# 複素関数論 (3) #\n",
    "\n",
    "## 複素数の数列と級数 ##"
   ]
  },
  {
   "cell_type": "markdown",
   "metadata": {
    "slideshow": {
     "slide_type": "slide"
    }
   },
   "source": [
    "### 数列 ###\n",
    "\n",
    "- 自然数$n$に対し, 複素数$z_n$が対応しているとき, $\\{z_n\\}$を複素数列という.\n",
    "- $n$が大きくなるにしたがって, $z_n$の値が複素数$\\alpha$に近づくとき, 「数列$\\{z_n\\}$は$\\alpha$に<b>収束</b>する」という.　これを$\\lim_{n\\rightarrow \\infty}z_n=\\alpha$と表す.\n",
    "- $\\lim_{n\\rightarrow \\infty}z_n=\\alpha$ は, $\\lim_{n\\rightarrow \\infty}|z_n-\\alpha|=$と同値である.\n",
    "- $z_n=x_n+y_n\\,i$とし, $\\alpha=a+ni$とすると, $\\lim_{n\\rightarrow \\infty}z_n=\\alpha$ は, $\\lim_{n\\rightarrow \\infty}x_n=a$かつ$\\lim_{n\\rightarrow \\infty}y_n=b$と同値である.\n",
    "\n",
    "- 数列$\\{z_n\\}$が収束しないとき, 「$\\{z_n\\}$は<b>発散</b>する」という.\n",
    "- 特に, $\\lim_{n\\rightarrow \\infty}|z_n|=\\infty$のとき, $\\lim_{n\\rightarrow \\infty}z_n=\\infty$と書く."
   ]
  },
  {
   "cell_type": "markdown",
   "metadata": {
    "slideshow": {
     "slide_type": "slide"
    }
   },
   "source": [
    "### 級数 ###\n",
    "\n",
    "- 複素数列$\\{z_n\\}$の和\n",
    "$$\n",
    "z_1+z_2+\\cdots+z_n+\\cdots\n",
    "$$\n",
    "を（無限）級数という.\n",
    "- $\\{z_n\\}$の第$n$項までの和$S_n=xz_1+z_2+\\cdots+z_n$の極限$\\lim_{n\\rightarrow \\infty}S_n$と考えることができる.\n",
    "- $S_n$が収束するとき, 「この無限級数は収束する」という.\n",
    "- $S_n$が収束しないとき, 「この無限級数は発散する」という."
   ]
  }
 ],
 "metadata": {
  "celltoolbar": "Slideshow",
  "kernelspec": {
   "display_name": "Wolfram Language 12",
   "language": "Wolfram Language",
   "name": "wolframlanguage12"
  },
  "language_info": {
   "codemirror_mode": "python",
   "file_extension": ".m",
   "mimetype": "application/vnd.wolfram.m",
   "name": "Wolfram Language",
   "pygments_lexer": "python",
   "version": "12.0"
  }
 },
 "nbformat": 4,
 "nbformat_minor": 2
}
