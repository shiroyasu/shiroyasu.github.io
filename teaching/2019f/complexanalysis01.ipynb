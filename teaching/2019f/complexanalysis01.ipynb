{
 "cells": [
  {
   "cell_type": "markdown",
   "metadata": {},
   "source": [
    "<a href=\"https://shiroyasu.github.io/index.html\">home</a> &#155;&#155; <a href=\"https://shiroyasu.github.io/teaching/index.html\">Teaching</a> &#155;&#155; <a href=\"https://shiroyasu.github.io/teaching/2019f/ca-mpsca.html\">2019 Complex Analysis</a>> &#155;&#155;"
   ]
  },
  {
   "cell_type": "markdown",
   "metadata": {},
   "source": [
    "# 複素関数論 (1) #\n",
    "\n",
    "## 複素数とその演算 ##"
   ]
  },
  {
   "cell_type": "markdown",
   "metadata": {},
   "source": [
    "### 複素数 ###\n",
    "\n",
    "- 複素数とは, $a+bi$と表される数のこと.\n",
    "- ただし, $a, b$は実数, $i$は虚数単位（$i^2=-1$）.\n",
    "- $z=a+bi$に対し, $a$を複素数$z$の<b>実部</b>といい, $\\Re(z)$で表す. また, $b$を複素数$z$の<b>虚部</b>といい, $\\Im(z)$で表す.\n",
    "- $z=a+bi$に対し, $b=0$のとき, $z$を<b>実数</b>といい, $a=0$のとき, $z$を<b>純虚数</b>という.\n",
    "- 2つの複素数$z, z'$に対し, $z=z'$ $\\Longleftrightarrow$ $\\Re(z)=\\Re(z')$かつ$\\Im(z)=\\Im(z')$"
   ]
  },
  {
   "cell_type": "code",
   "execution_count": 5,
   "metadata": {},
   "outputs": [],
   "source": [
    "JupyterImageResolution = 72;"
   ]
  },
  {
   "cell_type": "markdown",
   "metadata": {},
   "source": [
    "### 複素数の四則演算 ###\n",
    "\n",
    "- 2つの複素数に対し, それらの和・差・積・商が定義できる."
   ]
  },
  {
   "cell_type": "markdown",
   "metadata": {},
   "source": [
    "#### 和 ####"
   ]
  },
  {
   "cell_type": "code",
   "execution_count": 16,
   "metadata": {},
   "outputs": [
    {
     "data": {
      "text/html": [
       "<div><img alt=\"Output\" src=\"data:image/png;base64,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\" width=\"97\"></div>"
      ]
     },
     "execution_count": 16,
     "metadata": {
      "text/html": []
     },
     "output_type": "execute_result"
    }
   ],
   "source": [
    "Expand[(a+b*I)+(c+d*I)]"
   ]
  },
  {
   "cell_type": "code",
   "execution_count": 11,
   "metadata": {},
   "outputs": [
    {
     "data": {
      "text/html": [
       "<div><img alt=\"Output\" src=\"data:image/png;base64,iVBORw0KGgoAAAANSUhEUgAAADwAAAAhCAIAAAAK1l9gAAAAhXpUWHRSYXcgcHJvZmlsZSB0eXBlIGV4aWYAAHjaVYvBDcMwDAP/mqIjyLJM2uMYiQNkg45fuu0n9yApgbT1vi97felp2dgxABc5csRU6P6juNciDXn+X9MfZGWgoRhTluEkhnJXkqKFN+LCAahYcIbnIV8gNQN3o86928QyPusLVffpbh/5eCey76LuBgAAAAlwSFlzAAAWJQAAFiUBSVIk8AAAADx0RVh0U29mdHdhcmUAQ3JlYXRlZCB3aXRoIHRoZSBXb2xmcmFtIExhbmd1YWdlIDogd3d3LndvbGZyYW0uY29tXKKmhQAAACF0RVh0Q3JlYXRpb24gVGltZQAyMDE5OjA5OjI1IDIzOjQ4OjA4nwwcTwAAAz1JREFUWIXtl79L61AUx0+0VuvPgg5VB/NDBa2YQVAnFRHFv0FwqQ7ipFARdHIoXTqJUhyKdtKxIAjSSTq4FDFKRSSmFpWGitrFxFpz33D7rq3lVSuah5DvdM+Pe8/nJjk3CYUQgt+mkv8N8BUZ0HrJgNZLBrReMqD1kgGtl0z5LoSQJEnX19ccxzU3N+vPhJVKpS4uLp6fn7u6usxmc04M/ZWqqqurqwMDA3V1dSTKsqzf70c6StM0v99vt9tNpswFNZvNPT09Ozs7JCcDvb+/39TURFitVms2utvtLra2IAiJRKLYWbIs9/X1kboWi6W+vp6YDocjB/rs7MxkMjEM4/V6RVHEzlAoxDAMAFRXV8uyXFT59vb2tbW1oqZomjY+Po75RkdHBUF4fX1FCEmS5HA4AGB9fT0HGiF0eHiYSqXeLRQMBvEq29vbPw3t9Xpxrenp6fzo6ekpGb81YvZ9AQBN0y4vL4kpiuLne+hr2tvbAwCbzebxePKjdrudjHNOj3Q6vbu7GwgETk5OIpGIoigk9Pj4+GO0GYXDYQAYHBysqakpnPkGvbW1tbi4GI/HAcBisfA8zzAMy7Iulwt94pcsGAweHBwQU5blQCCAV8Oan5+3Wq3/mq6q6s3NDQC0trZ+WCsD7fP5pqamEEL9/f0LCwtjY2OVlZU4tLm5iZcrLEmSQqEQMRVFEUXx5eWFeGZmZgpAl5eXV1RUKIoSi8U+rJVpRJ7nAWBkZCS/F/H7xel0/nQj4qeWpmlVVQtnlgCApmmRSAQAhoeHy8rKsrcUDoeTyeTHW/8OTUxMAEA0Gl1ZWcmPxmKxt5uA2Ts6OgCgu7v76uoKe+LxuNPpLC0txWk6XOn7+3vy1TA5OXl7e4v9iUTC4/FUVVX19vam02lEzmm32032xHEcx3F4TNN0Z2enPtAIIUEQGhoaCEljYyNN08QcGhp6eHhA2S8Xl8vV0tJCMliWXV5efnp6mpubA4ClpaWiym9sbBwdHRULjRC6u7ubnZ3lOI6iKExCUVRbW5vP5yM5FMo9zqLR6Pn5Oc/zNput+MfyO5VMJo+PjymK4nm+trY2O/Qe+lfoV/4EGNB6yYDWS38ACGTugOISPigAAAAASUVORK5CYII=\" width=\"30\"></div>"
      ]
     },
     "execution_count": 11,
     "metadata": {
      "text/html": []
     },
     "output_type": "execute_result"
    }
   ],
   "source": [
    "Simplify[Re[(a+b*I)+(c+d*I)], Element[{a,b,c,d},Reals]]"
   ]
  },
  {
   "cell_type": "code",
   "execution_count": 12,
   "metadata": {},
   "outputs": [
    {
     "data": {
      "text/html": [
       "<div><img alt=\"Output\" src=\"data:image/png;base64,iVBORw0KGgoAAAANSUhEUgAAADwAAAAhCAIAAAAK1l9gAAAAhXpUWHRSYXcgcHJvZmlsZSB0eXBlIGV4aWYAAHjaVYvBDcMwDAP/mqIjyLJM2uMYiQNkg45fuu0n9yApgbT1vi97felp2dgxABc5csRU6P6juNciDXn+X9MfZGWgoRhTluEkhnJXkqKFN+LCAahYcIbnIV8gNQN3o86928QyPusLVffpbh/5eCey76LuBgAAAAlwSFlzAAAWJQAAFiUBSVIk8AAAADx0RVh0U29mdHdhcmUAQ3JlYXRlZCB3aXRoIHRoZSBXb2xmcmFtIExhbmd1YWdlIDogd3d3LndvbGZyYW0uY29tXKKmhQAAACF0RVh0Q3JlYXRpb24gVGltZQAyMDE5OjA5OjI1IDIzOjQ4OjE2Ya8ACQAAAzBJREFUWIXtl89LMkEYx59dDcrWtZ8UmSAVBR1sghW6hGBBHSLoGvQHROAh6h/oHgXSJa8h1KlOBXmIkKBIbCuwDhZhPxQh3aQi3Jz3MDBsmylbqe9C34uzz/N9nM8MM48ugzEGvYmtNMB39AddLv1Bl0t6hvZ4PAghj8dTWZq8SiaTCCGE0O7uLokYyUckEhFF0WazVY7tS8myLIoiAKTTaRLR8/HQl/QPzTAMGWSz2VAoFI1GK4EEAHB7e3t4ePjy8qKkovoAbTQaLy8vR0dHLRaLIAhdXV0NDQ3z8/OyLJcN1+v1Wq1Wm802MDDA87zL5bq6ulKbMMYY4+HhYQCorq6uqakBAIZhzGYz9QwNDb2/v2MtOj09TSaTmkpkWR4fH6eTms1mlmVBsdMbGxvE+QGacC8vLycSCYzxxcWFIAgkvr6+romgu7t7ZWVFU4nX6yVz9fX1hcPhXC6XyWR8Ph/P84Wg29vbRVFUfpEkSaRGEISSQqdSKYvFAgB2u/35+VmZIk1aCf3hTCOEHA6HMsLz/OTkJACcnZ3hUr4uhEIhSZIAYGFhwWQyKVPNzc0qc/GW19vbCwBvb28PDw+/B6nW+fk5Gbjd7qJmY1EHx3FkkE6n29ravrIFAoH9/X36mEgktra24vE4jczOztbV1X1VHovFyMBqtf4C9M3NDQCwLNvR0VHAdn19HQwG6ePr62s0Gs1mszQyPT1dAJqmJEkih7uQlBdxbGzs8xUhqc7OzpJeRL/fT3j29vZUqfv7e5LKfxEzmYzqth0cHAQCAQBwuVxFVv8z9ff3k368uLioSm1vb6vdyu0EgMHBwZOTE4xxLpfb2dlpbGwEAI7j7u7uSrrTGOOJiQnCMDMzQ7pePB6fm5ujqPn7NO01TU1N9fX1ZGwwGHw+n6bpvwcdiURaWlropPTPvd1ur62tzQM9MjICAGtra0tLS62trXRxPT09wWBQKzHGeHV1NRwOa62KxWJut9tgMJDZOY6bmppKpVJOpxMANjc3iY3Bn34yMMbHx8ePj48IIbr0curp6eno6MhkMjmdzqqqqs+GPND/v/T/EqAX/UGXS7qE/ge6uDXaJsXHVwAAAABJRU5ErkJggg==\" width=\"30\"></div>"
      ]
     },
     "execution_count": 12,
     "metadata": {
      "text/html": []
     },
     "output_type": "execute_result"
    }
   ],
   "source": [
    "Simplify[Im[(a+b*I)+(c+d*I)], Element[{a,b,c,d},Reals]]"
   ]
  },
  {
   "cell_type": "markdown",
   "metadata": {},
   "source": [
    "#### 積 ####"
   ]
  },
  {
   "cell_type": "code",
   "execution_count": 17,
   "metadata": {},
   "outputs": [
    {
     "data": {
      "text/html": [
       "<div><img alt=\"Output\" src=\"data:image/png;base64,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\" width=\"143\"></div>"
      ]
     },
     "execution_count": 17,
     "metadata": {
      "text/html": []
     },
     "output_type": "execute_result"
    }
   ],
   "source": [
    "Expand[(a+b*I)*(c+d*I)]"
   ]
  },
  {
   "cell_type": "code",
   "execution_count": 14,
   "metadata": {},
   "outputs": [
    {
     "data": {
      "text/html": [
       "<div><img alt=\"Output\" src=\"data:image/png;base64,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\" width=\"53\"></div>"
      ]
     },
     "execution_count": 14,
     "metadata": {
      "text/html": []
     },
     "output_type": "execute_result"
    }
   ],
   "source": [
    "Simplify[Re[Expand[(a+b*I)*(c+d*I)]], Element[{a,b,c,d},Reals]]"
   ]
  },
  {
   "cell_type": "code",
   "execution_count": 15,
   "metadata": {},
   "outputs": [
    {
     "data": {
      "text/html": [
       "<div><img alt=\"Output\" src=\"data:image/png;base64,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\" width=\"53\"></div>"
      ]
     },
     "execution_count": 15,
     "metadata": {
      "text/html": []
     },
     "output_type": "execute_result"
    }
   ],
   "source": [
    "Simplify[Im[Expand[(a+b*I)*(c+d*I)]], Element[{a,b,c,d},Reals]]"
   ]
  },
  {
   "cell_type": "markdown",
   "metadata": {},
   "source": [
    "#### 問題 ####\n",
    "複素数$z, z'$が「$zz'=0$を満たすならば, $z=0$または$z'=0$」が成り立つか？\n",
    "\n",
    "<b>答え</b>：成り立つ."
   ]
  },
  {
   "cell_type": "markdown",
   "metadata": {},
   "source": [
    "#### 商 ####"
   ]
  },
  {
   "cell_type": "markdown",
   "metadata": {},
   "source": [
    "\\begin{align*}\n",
    "\\frac{a+bi}{c+di}\n",
    "=&\\frac{(a+bi)(c-di)}{(c+di)(c-di)}\\\\\n",
    "=&\\frac{(ac+bd)+(bc-ad)i}{c^2-d^2i^2}\\\\\n",
    "=&\\frac{(ac+bd)+(bc-ad)i}{c^2+d^2}\\\\\n",
    "=&\\frac{ac+bd}{c^2+d^2}+\\frac{bc-ad}{c^2+d^2}i\n",
    "\\end{align*}"
   ]
  },
  {
   "cell_type": "markdown",
   "metadata": {},
   "source": [
    "### 共役複素数 ###\n",
    "\n",
    "$z=a+bi$に対し, $a-bi$を$z$の共役複素数とよび, $\\bar{z}$と表す.\n",
    "\n",
    "#### 共役複素数の性質 ####\n",
    "\n",
    "- $\\bar{\\bar{\\alpha}}=\\alpha$\n",
    "- 複素共役と演算；\n",
    "$\\displaystyle \\overline{\\alpha\\pm\\beta}=\\overline{\\alpha}\\pm\\overline{\\beta},\\quad\n",
    "\\overline{\\alpha \\beta}=\\overline{\\alpha}\\,\\overline{\\beta},\\quad\n",
    "\\overline{\\left(\\frac{\\alpha}{\\beta}\\right)}=\\frac{\\overline{\\alpha}}{\\overline{\\beta}}$\n",
    "- $\\bar{\\alpha}=\\alpha \\Longleftrightarrow$ $\\alpha$ は実数\n",
    "- $\\bar{\\alpha}=-\\alpha \\Longleftrightarrow$ $\\alpha$ は純虚数"
   ]
  }
 ],
 "metadata": {
  "kernelspec": {
   "display_name": "Wolfram Language 12",
   "language": "Wolfram Language",
   "name": "wolframlanguage12"
  },
  "language_info": {
   "codemirror_mode": "python",
   "file_extension": ".m",
   "mimetype": "application/vnd.wolfram.m",
   "name": "Wolfram Language",
   "pygments_lexer": "python",
   "version": "12.0"
  }
 },
 "nbformat": 4,
 "nbformat_minor": 2
}
