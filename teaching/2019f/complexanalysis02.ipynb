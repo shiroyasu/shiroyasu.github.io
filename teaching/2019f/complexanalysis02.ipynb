{
 "cells": [
  {
   "cell_type": "markdown",
   "metadata": {
    "slideshow": {
     "slide_type": "skip"
    }
   },
   "source": [
    "<a href=\"https://shiroyasu.github.io/index.html\">home</a> &#155;&#155; <a href=\"https://shiroyasu.github.io/teaching/index.html\">Teaching</a> &#155;&#155; <a href=\"https://shiroyasu.github.io/teaching/2019f/ca-mpsca.html\">2019 Complex Analysis</a>> &#155;&#155;"
   ]
  },
  {
   "cell_type": "markdown",
   "metadata": {
    "slideshow": {
     "slide_type": "slide"
    }
   },
   "source": [
    "# 複素関数論 (2) #\n",
    "\n",
    "## 複素数平面 ##"
   ]
  },
  {
   "cell_type": "markdown",
   "metadata": {
    "slideshow": {
     "slide_type": "slide"
    }
   },
   "source": [
    "- 点P$(x, y)$に複素数$z=x+yi$を対応させた平面のこと.\n",
    "- $x$軸上の点$(x, 0)$は実数に対応している. $x$軸を<b>実軸</b>という.\n",
    "- $y$軸上の点$(0, y)$は純虚数に対応している. $y$軸を<b>虚軸</b>という.\n",
    "- 原点Oは$0$に対応している.\n",
    "- 点P$(x, y)$の代わりに, ベクトル$\\overrightarrow{OP}$が複素数$z=x+yi$と対応している, と考えることもできる.\n",
    "\n",
    "以後, 複素数$z=x+yi$と点$(x, y)$を同一視して考える."
   ]
  },
  {
   "cell_type": "code",
   "execution_count": 5,
   "metadata": {
    "slideshow": {
     "slide_type": "skip"
    }
   },
   "outputs": [],
   "source": [
    "JupyterImageResolution = 72;"
   ]
  },
  {
   "cell_type": "markdown",
   "metadata": {
    "slideshow": {
     "slide_type": "slide"
    }
   },
   "source": [
    "### 複素数の絶対値 ###\n",
    "\n",
    "- 原点Oと複素数$z$の間の距離を$|z|$と表し, $z$の<b>絶対値</b>とよぶ.\n",
    "- $z=x+yi$に対し, $|z|=\\sqrt{x^2+y^2}=\\sqrt{z \\bar{z}}$である.\n",
    "- $z=0$ $\\Longleftrightarrow$ $|z|=0$\n",
    "- <b>三角不等式</b> : $z+w|\\le |z|+|w|$, $|z-w|\\ge |z|-|w|$"
   ]
  },
  {
   "cell_type": "markdown",
   "metadata": {
    "slideshow": {
     "slide_type": "slide"
    }
   },
   "source": [
    "### 複素数の偏角 ###\n",
    "\n",
    "- 複素数$z=x+yi$に対し, 点Pを$(x,y)$とする. 線分OPと実軸の正の部分とのなす角を$z$の<b>偏角</b>とよび, $\\arg(z)$と書く.\n",
    "- 偏角は一般角として扱う.\n",
    "- $0$の偏角は考えない（つまり, $\\arg : \\mathbb{C}\\backslash\\{0\\}\\rightarrow \\mathbb{R}$）."
   ]
  },
  {
   "cell_type": "markdown",
   "metadata": {
    "slideshow": {
     "slide_type": "slide"
    }
   },
   "source": [
    "### 複素数の極形式 ###\n",
    "\n",
    "- 複素数$z=x+yi$の絶対値を$r$, 偏角を$\\theta$とすると,\n",
    "$$\n",
    "x=r\\,\\cos\\theta,\\quad\n",
    "y=r\\,\\sin\\theta\n",
    "$$\n",
    "と表される.\n",
    "- つまり, $z=r(\\cos\\theta+i\\,\\sin\\theta)$と書ける. これを$z$の<b>極形式</b>という.\n",
    "- $z=z'$ $\\Longleftrightarrow$ $|z|=|z'|$ かつ $\\arg(z)=\\arg(z')+2n\\pi$"
   ]
  },
  {
   "cell_type": "markdown",
   "metadata": {
    "slideshow": {
     "slide_type": "slide"
    }
   },
   "source": [
    "### 複素数の共役, 演算の幾何的意味 ###\n",
    "\n",
    "- <b>共役複素数</b>：点$(x, y)$（$\\leftrightarrow z=x+yi$）の共役複素数は$(x, -y)$（$\\leftrightarrow \\bar{z}=x-yi$）である. つまり, $z\\mapsto\\bar{z}$は, 実軸に関する対称移動である.\n",
    "よって,\n",
    "$$\n",
    "|\\bar{z}|=|z|,\\quad \\arg(z')=-\\arg(z)\n",
    "$$\n",
    "- <b>和</b>と<b>差</b>：複素数の和（差）は位置ベクトルの和（差）である.\n",
    "- <b>積(1)</b>：三角関数の加法定理より,\n",
    "$$\n",
    "r(\\cos\\theta+i\\,\\sin\\theta)\\cdot r'(\\cos\\theta'+i\\,\\sin\\theta')\n",
    "=rr'\\{\\cos(\\theta+\\theta')+i\\,\\sin(\\theta+\\theta')\\}\n",
    "$$\n",
    "が成り立つ.\n",
    "つまり,\n",
    "$$\n",
    "|zz'|=|z|\\,|z'|,\\quad \\arg(zz')=\\arg(z)+\\arg(z')\n",
    "$$\n",
    "- <b>積(2)</b>：$z_1=x_1+i\\,y_1$, $z_2=x_2+i\\,y_2$に対し,\n",
    "$$\n",
    "\\overline{z_1}z_2=(x_1x_2+y_1y_2)+i\\,(x_1y_2-x_2y_1)\n",
    "$$\n",
    "である.\n",
    "つまり, $z_1, z_2$を平面ベクトル$\\left(\\begin{array}{c}x_1\\\\y_1\\end{array}\\right)$, $\\left(\\begin{array}{c}x_2\\\\y_2\\end{array}\\right)$とみなすとき, 右辺の実部はこれらの内積に等しく, 虚部は2つのベクトルを並べた行列の行列式$\\left|\\begin{array}{cc}x_1&x_2\\\\y_1&y_2\\end{array}\\right|$に等しい.\n",
    "- <b>逆数</b>\n",
    "\\begin{align*}\n",
    "\\frac{1}{r(\\cos\\theta+i\\,\\sin\\theta)}\n",
    "=&\\frac{1}{r}\\cdot\\frac{(\\cos\\theta-i\\,\\sin\\theta)}{(\\cos\\theta+i\\,\\sin\\theta)(\\cos\\theta-i\\,\\sin\\theta)}\\\\\n",
    "=&\\frac{1}{r}\\cdot\\frac{(\\cos\\theta-i\\,\\sin\\theta)}{\\cos^2\\theta+\\sin^2\\theta}\\\\\n",
    "=&\\frac{1}{r}\\cdot(\\cos\\theta-i\\,\\sin\\theta)\\\\\n",
    "=&\\frac{1}{r}\\cdot(\\cos(-\\theta)+i\\,\\sin(-\\theta)).\n",
    "\\end{align*}\n",
    "つまり,\n",
    "$$\n",
    "\\left|\\frac{1}{z}\\right|=\\frac{1}{|z|},\\quad\n",
    "\\arg\\left(\\frac{1}{z}\\right)=-\\arg(z)\n",
    "$$\n",
    "- <b>商</b>：積と逆数の結果から,\n",
    "$$\n",
    "\\left|\\frac{z'}{z}\\right|=\\frac{|z'|}{|z|},\\quad\n",
    "\\arg\\left(\\frac{z'}{z}\\right)=\\arg(z')-\\arg(z)\n",
    "$$\n",
    "が成り立つ."
   ]
  },
  {
   "cell_type": "markdown",
   "metadata": {
    "slideshow": {
     "slide_type": "slide"
    }
   },
   "source": [
    "### 極形式の応用：ド・モアブルの定理 ###\n",
    "\n",
    "$$\n",
    "(\\cos\\theta+i\\,\\sin\\theta)^n=\\cos(n\\theta)+i\\,\\sin(n\\theta)\n",
    "$$\n",
    "$$\n",
    "|z^n|=|z|^n,\\quad\n",
    "\\arg(z^n)=n\\arg(z).\n",
    "$$"
   ]
  },
  {
   "cell_type": "markdown",
   "metadata": {
    "slideshow": {
     "slide_type": "fragment"
    }
   },
   "source": [
    "### 極形式の応用：$n$乗根 ###\n",
    "\n",
    "- $0$でない複素数$z$に対し, 「$w^n=z$を満たす$w$」を$z$の<b>$n$乗根</b>という.\n",
    "- ド・モアブルの定理を利用することで, $n$乗根を求めることができる."
   ]
  }
 ],
 "metadata": {
  "celltoolbar": "Slideshow",
  "kernelspec": {
   "display_name": "Wolfram Language 12",
   "language": "Wolfram Language",
   "name": "wolframlanguage12"
  },
  "language_info": {
   "codemirror_mode": "python",
   "file_extension": ".m",
   "mimetype": "application/vnd.wolfram.m",
   "name": "Wolfram Language",
   "pygments_lexer": "python",
   "version": "12.0"
  }
 },
 "nbformat": 4,
 "nbformat_minor": 2
}
