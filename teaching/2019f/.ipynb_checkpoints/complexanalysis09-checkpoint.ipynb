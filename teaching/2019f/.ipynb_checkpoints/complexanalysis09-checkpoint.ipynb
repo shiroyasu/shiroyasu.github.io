{
 "cells": [
  {
   "cell_type": "markdown",
   "metadata": {
    "slideshow": {
     "slide_type": "skip"
    }
   },
   "source": [
    "<a href=\"https://shiroyasu.github.io/index.html\">home</a> &#155;&#155; <a href=\"https://shiroyasu.github.io/teaching/index.html\">Teaching</a> &#155;&#155; <a href=\"https://shiroyasu.github.io/teaching/2019f/ca-mpsca.html\">2019 Complex Analysis</a>> &#155;&#155;"
   ]
  },
  {
   "cell_type": "markdown",
   "metadata": {
    "slideshow": {
     "slide_type": "slide"
    }
   },
   "source": [
    "# 複素関数論 (9) #\n",
    "\n",
    "## 留数定理とその応用 ##"
   ]
  },
  {
   "cell_type": "markdown",
   "metadata": {
    "slideshow": {
     "slide_type": "slide"
    }
   },
   "source": [
    "### 極 ###\n",
    "\n",
    "関数 $f(z)$ をその特異点 $z=a$ でローラン展開すると, ある有限の $k$ に対し,\n",
    "\n",
    "$$\n",
    "f(z)=\\dfrac{b_{-k}}{(z-a)^k}+\\cdots+\\dfrac{b_{-1}}{z-a}+b_0+b_1(z-a)+\\cdots,\\qquad b_{-k}=\\ne 0\n",
    "$$\n",
    "\n",
    "となるとする.\n",
    "このとき, $z=a$ を「関数 $f(z)$ の（$k$位の）**極**」という."
   ]
  },
  {
   "cell_type": "markdown",
   "metadata": {
    "slideshow": {
     "slide_type": "slide"
    }
   },
   "source": [
    "$z=a$ を関数 $f(z)$ の$k$位の極とすると, \n",
    "\\begin{align*}\n",
    "f(z)\n",
    "&=\\dfrac{b_{-k}}{(z-a)^k}+\\cdots+\\dfrac{b_{-1}}{z-a}+b_0+b_1(z-a)+\\\\\n",
    "&=\\frac{1}{(z-a)^k}\\left\\{b_{-k}+\\cdots+b_{-1}(z-a)^{k-1}+b_0(z-a)^k+b_1(z-a)^{k+1}+\\cdots\\right\\}\\\\\n",
    "&=:\\frac{g(z)}{{(z-a)^k}}\n",
    "\\end{align*}\n",
    "となり, $g(z)$ は $z=a$ の近傍で正則関数となる.\n",
    "\n",
    "逆に, $z=a$ の近傍で正則な関数 $g(z)$ を用いて,\n",
    "$$\n",
    "f(z)=\\frac{g(z)}{(z-a)^k},\\quad g(a)\\ne 0, k>0\n",
    "$$\n",
    "と書けるならば, $f(z)$ は$k$位の極である.\n",
    "つまり,"
   ]
  },
  {
   "cell_type": "markdown",
   "metadata": {
    "slideshow": {
     "slide_type": "fragment"
    }
   },
   "source": [
    "#### 定理 9.1. ####\n",
    "\n",
    "$z=a$ が $k$ 位の極 $\\Longleftrightarrow$ $z=a$ の近傍で正則かつ $g(a)\\ne 0$ を満たす関数が存在し, $f(z)=\\dfrac{g(z)}{(z-a)^k}$"
   ]
  },
  {
   "cell_type": "markdown",
   "metadata": {
    "slideshow": {
     "slide_type": "slide"
    }
   },
   "source": [
    "### 真性特異点 ###\n",
    "\n",
    "関数 $f(z)$ をその特異点 $z=a$ でローラン展開すると, 負のべき項の係数のうち, $0$ でないのものが無数にあるとき, $z=a$ を**真性特異点**という."
   ]
  },
  {
   "cell_type": "markdown",
   "metadata": {
    "slideshow": {
     "slide_type": "slide"
    }
   },
   "source": [
    "### 留数 ###\n",
    "\n",
    "点 $z=a$ が関数 $f(z)$ の特異点でなければ, この点を含むある領域 $D$ で $f(z)$ は正則なので, $a$ を内部に含むような $D$ 内の単一閉曲線 $C$ で積分すると, コーシーの定理からその値は $0$ である.\n",
    "\n",
    "$z=a$ を関数 $f(z)$ の極とし, $C$ を次の条件 $(\\ast)$ を満たす単一閉曲線とする; $(\\ast)$「$C$ から $z=a$ を取り除いた領域で関数 $f(z)$ は正則」.\n",
    "このとき, $\\displaystyle\\frac{1}{2\\pi i}\\int_C f(z)\\,dz$ を「関数 $f(z)$ の極 $z=a$ における**留数**」といい, $\\mathrm{Res}[f, a]$ と書く;\n",
    "\n",
    "$$\n",
    "\\mathrm{Res}[f, a]=\\frac{1}{2\\pi i}\\int_C f(z)\\,dz\n",
    "$$\n",
    "\n",
    "上の式の右辺は, 条件 $(\\ast)$ を満たす単一閉曲線 $C$ の選び方に依らないことに注意せよ."
   ]
  },
  {
   "cell_type": "markdown",
   "metadata": {
    "slideshow": {
     "slide_type": "fragment"
    }
   },
   "source": [
    "#### 定理 9.2. ####\n",
    "\n",
    "留数 $\\mathrm{Res}[f, a]$ は, $f(z)$ の $z=a$ を中心とするローラン展開における係数 $b_{-1}$ である."
   ]
  },
  {
   "cell_type": "markdown",
   "metadata": {
    "slideshow": {
     "slide_type": "slide"
    }
   },
   "source": [
    "### 留数の求め方 ###\n",
    "\n",
    "コーシーの積分表示より, 留数は微分と代入計算（極限操作）によって求めることができる."
   ]
  },
  {
   "cell_type": "markdown",
   "metadata": {
    "slideshow": {
     "slide_type": "fragment"
    }
   },
   "source": [
    "#### 定理 9.3. ####\n",
    "\n",
    "$z=a$ を関数 $f(z)$ の極とする.\n",
    "このとき,\n",
    "\n",
    "1. 位数が $1$ ならば,\n",
    "$$\n",
    "\\mathrm{Res}[f, a]=\\lim_{z\\rightarrow a}[(z-a)f(z)]\n",
    "$$\n",
    "1. 位数が $k>1$ ならば,\n",
    "$$\n",
    "\\mathrm{Res}[f, a]=\\frac{1}{(k-1)!}\\lim_{z\\rightarrow a}\\left(\\frac{d}{dz}\\right)^{k-1}[(z-a)^kf(z)]\n",
    "$$"
   ]
  },
  {
   "cell_type": "markdown",
   "metadata": {
    "slideshow": {
     "slide_type": "fragment"
    }
   },
   "source": [
    "ある条件を満たす有理関数については, 次の結果が成り立つ;\n",
    "\n",
    "#### 定理 9.4. ####\n",
    "\n",
    "$f(z)=\\dfrac{h(z)}{g(z)}$ について,\n",
    "- $f(z)$ は $z=a$ で正則かつ $f(a)=0$\n",
    "- $g(z)$ は $g(a)=0$ かつ $g'(a)\\ne 0$\n",
    "を満たすとする.\n",
    "\n",
    "このとき, $z=a$ は $f(z)$ の1位の極であり,\n",
    "$$\n",
    "\\mathrm{Res}[f,a]=\\frac{h(a)}{g'(a)}.\n",
    "$$"
   ]
  },
  {
   "cell_type": "markdown",
   "metadata": {
    "slideshow": {
     "slide_type": "slide"
    }
   },
   "source": [
    "### 留数定理 ###\n",
    "\n",
    "以上の議論から, 関数 $f(z)$ の単一閉曲線 $C$ に沿った複素積分は, 留数によって決定されることがわかる."
   ]
  },
  {
   "cell_type": "markdown",
   "metadata": {
    "slideshow": {
     "slide_type": "fragment"
    }
   },
   "source": [
    "#### 定理 9.5. ####\n",
    "\n",
    "関数 $f(z)$ は領域 $D$ で正則で,  $C$ を $D$ 内の単一閉曲線とする.\n",
    "\n",
    "1. $C$ の内部に $f(z)$ の極が存在しないとき,\n",
    "$$\n",
    "\\int_C f(z)\\,dz=0\n",
    "$$\n",
    "である.\n",
    "1. $C$ の内部に $f(z)$ の極 $a_1, a_2,\\ldots, a_l$ が存在するとき, \n",
    "$$\n",
    "\\int_C f(z)\\,dz=2\\pi i\\left(\\mathrm{Res}[f,a_1]+\\mathrm{Res}[f,a_2]+\\cdots+\\mathrm{Res}[f,a_l]\\right)\n",
    "$$\n",
    "である."
   ]
  },
  {
   "cell_type": "markdown",
   "metadata": {
    "slideshow": {
     "slide_type": "slide"
    }
   },
   "source": [
    "### 留数定理の応用（実関数の広義積分） ###\n"
   ]
  }
 ],
 "metadata": {
  "celltoolbar": "Slideshow",
  "kernelspec": {
   "display_name": "Wolfram Language 12",
   "language": "Wolfram Language",
   "name": "wolframlanguage12"
  },
  "language_info": {
   "codemirror_mode": "python",
   "file_extension": ".m",
   "mimetype": "application/vnd.wolfram.m",
   "name": "Wolfram Language",
   "pygments_lexer": "python",
   "version": "12.0"
  }
 },
 "nbformat": 4,
 "nbformat_minor": 2
}
