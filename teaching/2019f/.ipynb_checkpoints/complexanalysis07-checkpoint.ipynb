{
 "cells": [
  {
   "cell_type": "markdown",
   "metadata": {
    "slideshow": {
     "slide_type": "skip"
    }
   },
   "source": [
    "<a href=\"https://shiroyasu.github.io/index.html\">home</a> &#155;&#155; <a href=\"https://shiroyasu.github.io/teaching/index.html\">Teaching</a> &#155;&#155; <a href=\"https://shiroyasu.github.io/teaching/2019f/ca-mpsca.html\">2019 Complex Analysis</a>> &#155;&#155;"
   ]
  },
  {
   "cell_type": "markdown",
   "metadata": {
    "slideshow": {
     "slide_type": "slide"
    }
   },
   "source": [
    "# 複素関数論 (7) #\n",
    "\n",
    "## 複素関数の線積公式 ##"
   ]
  },
  {
   "cell_type": "markdown",
   "metadata": {},
   "source": [
    "### 単一閉曲線 ###\n",
    "\n",
    "- <b>単一曲線</b>：自分自身と交わることのない曲線（接していてもよい）\n",
    "- <b>閉曲線</b>：始点と終点が同じ曲線\n",
    "- 単一閉曲線：単一曲線かつ閉曲線"
   ]
  }
 ],
 "metadata": {
  "celltoolbar": "Slideshow",
  "kernelspec": {
   "display_name": "Wolfram Language 12",
   "language": "Wolfram Language",
   "name": "wolframlanguage12"
  },
  "language_info": {
   "codemirror_mode": "python",
   "file_extension": ".m",
   "mimetype": "application/vnd.wolfram.m",
   "name": "Wolfram Language",
   "pygments_lexer": "python",
   "version": "12.0"
  }
 },
 "nbformat": 4,
 "nbformat_minor": 2
}
