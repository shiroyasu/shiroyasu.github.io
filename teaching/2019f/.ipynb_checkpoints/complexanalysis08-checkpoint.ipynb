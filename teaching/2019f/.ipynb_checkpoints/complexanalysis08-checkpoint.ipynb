{
 "cells": [
  {
   "cell_type": "markdown",
   "metadata": {
    "slideshow": {
     "slide_type": "skip"
    }
   },
   "source": [
    "<a href=\"https://shiroyasu.github.io/index.html\">home</a> &#155;&#155; <a href=\"https://shiroyasu.github.io/teaching/index.html\">Teaching</a> &#155;&#155; <a href=\"https://shiroyasu.github.io/teaching/2019f/ca-mpsca.html\">2019 Complex Analysis</a>> &#155;&#155;"
   ]
  },
  {
   "cell_type": "markdown",
   "metadata": {
    "slideshow": {
     "slide_type": "slide"
    }
   },
   "source": [
    "# 複素関数論 (8) #\n",
    "\n",
    "## テイラー展開とローラン展開 ##"
   ]
  },
  {
   "cell_type": "markdown",
   "metadata": {
    "slideshow": {
     "slide_type": "slide"
    }
   },
   "source": [
    "### テイラー展開 ###\n",
    "\n",
    "関数 $f(z)$ が $z=a$ の近傍で正則ならば, \n",
    "\\begin{align*}\n",
    "f(z)\n",
    "=&\\sum_{n=1}^\\infty \\frac{f^{(n)}}{n!}(z-a)^n\\\\\n",
    "=&f(a)+f'(a)(z-a)+\\frac{f''(a)}{2}(z-a)^2+\\cdots\n",
    "\\end{align*}\n",
    "と級数展開できる.\n",
    "ただし, $|z-a|<R$."
   ]
  },
  {
   "cell_type": "markdown",
   "metadata": {
    "slideshow": {
     "slide_type": "slide"
    }
   },
   "source": [
    "証明は, コーシーの積分表示\n",
    "$$\n",
    "\\int_C\\frac{f(z)}{z-a}dz=2\\pi if(a)\n",
    "$$\n",
    "と, $\\dfrac{1}{1-r}$ の級数表示\n",
    "$$\n",
    "\\frac{1}{1-r}=1+r+r^2+\\cdots+r^n+\\cdots\\qquad (|r|<1)\n",
    "$$\n",
    "を利用する."
   ]
  },
  {
   "cell_type": "markdown",
   "metadata": {
    "slideshow": {
     "slide_type": "fragment"
    }
   },
   "source": [
    "$f(z)$ が $z=a$ で正則でない場合は, どのように考えればいいのか.\n",
    "まず, 関数の**特異点**の概念を導入する."
   ]
  },
  {
   "cell_type": "markdown",
   "metadata": {
    "slideshow": {
     "slide_type": "slide"
    }
   },
   "source": [
    "### 特異点 ###\n",
    "\n",
    "関数 $f(z)$ は $z=a$ で定義できないが, 円 $|z-a|=R$ の内部から $z=a$ を除いた領域で正則であるとき,\n",
    "$z=a$ を $f(z)$ の**特異点**という."
   ]
  },
  {
   "cell_type": "markdown",
   "metadata": {},
   "source": [
    "#### 例） ####\n",
    "関数 $f(z)=\\dfrac{1}{(z-1)(z-2)^3}$ に対して, $z=1,2$ は特異点である."
   ]
  },
  {
   "cell_type": "markdown",
   "metadata": {
    "slideshow": {
     "slide_type": "slide"
    }
   },
   "source": [
    "### ローラン展開 ###\n",
    "\n",
    "関数 $f(z)$ は特異点 $z=a$ をもち, 円 $|z-a|=R$ の内部から $z=a$ を除いた領域 $D$ で正則であるとする.\n",
    "このとき, $f(z)$ は領域 $D$ 上で\n",
    "\\begin{align*}\n",
    "f(z)\n",
    "=&\\sum_{m=-\\infty}^\\infty b_m(z-a)^m\\\\\n",
    "=&\\cdots+\\frac{b_{-n}}{(z-a)^n}+\\cdots+\\frac{b_{-2}}{(z-a)^2}+\\frac{b_{-1}}{z-a}\\\\\n",
    "&+b_0+b_1(z-a)+\\cdots+b_n(z-a)^n+\\cdots\n",
    "\\end{align*}\n",
    "と表すことができる."
   ]
  },
  {
   "cell_type": "markdown",
   "metadata": {
    "slideshow": {
     "slide_type": "fragment"
    }
   },
   "source": [
    "### 係数 $b_m$ について ###\n",
    "\n",
    "積分公式\n",
    "\n",
    "$$\n",
    "\\int_{|z-a|=r}(z-a)^m dz=\\left\\{\n",
    "\\begin{array}{ll}\n",
    "0&(m=0,1,2,\\ldots)\\\\\n",
    "2\\pi i&(m=-1)\\\\\n",
    "0&(m=-2, -3,\\ldots)\n",
    "\\end{array}\n",
    "\\right.\n",
    "$$\n",
    "より,\n",
    "$$\n",
    "\\int_C (z-a)^{-(m+1)}f(z)\\,dz=2\\pi i b_m.\n",
    "$$\n",
    "すなわち,\n",
    "$$\n",
    "b_m=\\frac{1}{2\\pi i}\\int_C \\frac{f(z)}{(z-a)^{m+1}}\\,dz.\n",
    "$$"
   ]
  },
  {
   "cell_type": "markdown",
   "metadata": {
    "slideshow": {
     "slide_type": "slide"
    }
   },
   "source": [
    "### 除去可能な特異点 ###\n",
    "\n",
    "関数 $f(z)$ の特異点 $z=a$ を中心とするローラン展開で, 負のベキ項の係数がすべて $0$ になることがある.\n",
    "このとき,\n",
    "\n",
    "$$\n",
    "f(z)=b_0+b_1(z-a)+b_2(z-a)^2+\\cdots\n",
    "$$\n",
    "\n",
    "となるので, $f(a)=b_0$ と定義すれば, $f(z)$ は $z=a$ の近傍で正則となる.\n",
    "このような特異点を**除去可能特異点**という."
   ]
  },
  {
   "cell_type": "markdown",
   "metadata": {
    "slideshow": {
     "slide_type": "fragment"
    }
   },
   "source": [
    "#### 例） ####\n",
    "関数 $f(z)=\\dfrac{1-\\cos z}{z^k}$ $(k>1)$ は $z=0$ が特異点だが, $k=1, 2$ のときは, 除去可能特異点である."
   ]
  }
 ],
 "metadata": {
  "celltoolbar": "Slideshow",
  "kernelspec": {
   "display_name": "Wolfram Language 12",
   "language": "Wolfram Language",
   "name": "wolframlanguage12"
  },
  "language_info": {
   "codemirror_mode": "python",
   "file_extension": ".m",
   "mimetype": "application/vnd.wolfram.m",
   "name": "Wolfram Language",
   "pygments_lexer": "python",
   "version": "12.0"
  }
 },
 "nbformat": 4,
 "nbformat_minor": 2
}
