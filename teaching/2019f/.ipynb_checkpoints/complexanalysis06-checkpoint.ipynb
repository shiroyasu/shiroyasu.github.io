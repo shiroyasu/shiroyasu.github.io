{
 "cells": [
  {
   "cell_type": "markdown",
   "metadata": {
    "slideshow": {
     "slide_type": "skip"
    }
   },
   "source": [
    "<a href=\"https://shiroyasu.github.io/index.html\">home</a> &#155;&#155; <a href=\"https://shiroyasu.github.io/teaching/index.html\">Teaching</a> &#155;&#155; <a href=\"https://shiroyasu.github.io/teaching/2019f/ca-mpsca.html\">2019 Complex Analysis</a>> &#155;&#155;"
   ]
  },
  {
   "cell_type": "markdown",
   "metadata": {
    "slideshow": {
     "slide_type": "slide"
    }
   },
   "source": [
    "# 複素関数論 (6) #\n",
    "\n",
    "## 複素関数の線積分 ##"
   ]
  },
  {
   "cell_type": "markdown",
   "metadata": {},
   "source": [
    "### 複素数平面内の曲線 ###\n",
    "\n",
    "- 変数 $t (a\\leqq t\\leqq b)$ の関数 $x(t), y(t)$ に対し, $z(t)=x(t)+i\\,y(t)$ は複素数平面内の曲線を定める. このとき, $z(a)$ をこの曲線の始点といい,  $z(b)$ を終点という.\n",
    "- 曲線 $z(t)=x(t)+i\\,y(t)$ に対し, $x(t), y(t)$ が微分可能で, $x'(t), y'(t)$ が連続であるとき, この曲線は<b>滑らかである</b>という.\n",
    "- 曲線 $z(t)$の微分  $z'(t)=x'(t)+i\\,y'(t)$ は, 点 $z(t)$ において曲線に接するベクトルである.\n",
    "\n",
    "### 曲線の演算 ###\n",
    "\n",
    "- 曲線 $C : z(t), a\\leqq t\\leqq b$ に対し, $w(t)=z(a+b-t),  a\\leqq t\\leqq b$ と定めると, これらは曲線としては同じであるが, 始点と終点が逆である. このとき, $w(t)$ を「$C$と向きが逆の曲線」とよび, $-C$ と表す.\n",
    "- 2つの曲線 $C_1 : z_1(t), a_1\\leqq t\\leqq b_1$ と $C_2 : z_2(t), a_2\\leqq t\\leqq b_2$ に対し, $z_1(b_1)=z_2(a_2)$ のとき, これらを繋げて1つの曲線 $C : z(t), a_1\\leqq t\\leqq b_1+(b_2-a_2)$ を, 次のように定める;\n",
    "$$\n",
    "z(t)=\\left\\{\n",
    "\\begin{array}{ll}z_1(t)&a_1\\leqq t\\leqq b_1\\\\z_2(t-b_1+a_2)&b_1\\leqq t\\leqq b_1+(b_2-a_2)\\end{array}\n",
    "\\right.\n",
    "$$\n",
    "これを $C_1+C_2$ と表す.\n",
    "- 有限個の滑らかな曲線 $C_1, C_2,\\ldots, C_k$ を繋げた曲線 $C_1+C_2+\\cdots+C_k$を「区分的に滑らかな曲線」という."
   ]
  },
  {
   "cell_type": "markdown",
   "metadata": {
    "slideshow": {
     "slide_type": "slide"
    }
   },
   "source": [
    "### 線積分の定義 ###\n",
    "\n",
    "- 複素関数 $f(z)$ と複素平面内の曲線 $C : z(t), a\\leqq t\\leqq b$ に対して定まる量;\n",
    "$$\n",
    "\\int_C f(z)\\,dz=\\int^b_a f(z(t))\\,z'(t)\\,dt\n",
    "$$\n",
    "- この曲線 $C$ を線積分の<b>積分経路</b>という.\n",
    "- $C=C_1+C_2+\\cdots+C_k$ のときは, \n",
    "$$\n",
    "\\int_C f(z)\\,dz=\\sum_{i=1}^k\\int_{C_i} f(z)\\,dz\n",
    "$$"
   ]
  },
  {
   "cell_type": "markdown",
   "metadata": {
    "slideshow": {
     "slide_type": "slide"
    }
   },
   "source": [
    "### 線積分の性質 ###\n",
    "\n",
    "- 線積分は積分経路 $C$ のパラメーターのとり方に依らない.\n",
    "- $f(z)$ がある領域内で正則で, 不定積分 $F(z)$ が存在するとき,\n",
    "$$\n",
    "\\int_C f(z)\\,dz=F(b)-F(a)\n",
    "$$\n",
    "が成り立つ. つまり, 線積分は積分経路の始点 $z(a)$ と終点 $z(b)$ にのみ依存する（その間の経路には依らない）."
   ]
  }
 ],
 "metadata": {
  "celltoolbar": "Slideshow",
  "kernelspec": {
   "display_name": "Wolfram Language 12",
   "language": "Wolfram Language",
   "name": "wolframlanguage12"
  },
  "language_info": {
   "codemirror_mode": "python",
   "file_extension": ".m",
   "mimetype": "application/vnd.wolfram.m",
   "name": "Wolfram Language",
   "pygments_lexer": "python",
   "version": "12.0"
  }
 },
 "nbformat": 4,
 "nbformat_minor": 2
}
