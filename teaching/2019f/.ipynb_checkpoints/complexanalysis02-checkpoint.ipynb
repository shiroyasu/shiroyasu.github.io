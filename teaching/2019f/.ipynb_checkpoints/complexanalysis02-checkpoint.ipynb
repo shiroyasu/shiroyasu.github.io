{
 "cells": [
  {
   "cell_type": "markdown",
   "metadata": {
    "slideshow": {
     "slide_type": "skip"
    }
   },
   "source": [
    "<a href=\"https://shiroyasu.github.io/index.html\">home</a> &#155;&#155; <a href=\"https://shiroyasu.github.io/teaching/index.html\">Teaching</a> &#155;&#155; <a href=\"https://shiroyasu.github.io/teaching/2019f/ca-mpsca.html\">2019 Complex Analysis</a>> &#155;&#155;"
   ]
  },
  {
   "cell_type": "markdown",
   "metadata": {
    "slideshow": {
     "slide_type": "slide"
    }
   },
   "source": [
    "# 複素関数論 (2) #\n",
    "\n",
    "## 複素数平面 ##"
   ]
  },
  {
   "cell_type": "markdown",
   "metadata": {
    "slideshow": {
     "slide_type": "slide"
    }
   },
   "source": [
    "- 点P$(x, y)$に複素数$z=x+yi$を対応させた平面のこと.\n",
    "- $x$軸上の点$(x, 0)$は実数に対応している. $x$軸を<b>実軸</b>という.\n",
    "- $y$軸上の点$(0, y)$は純虚数に対応している. $y$軸を<b>虚軸</b>という.\n",
    "- 原点Oは$0$に対応している.\n",
    "- 点P$(x, y)$の代わりに, ベクトル$\\overrightarrow{OP}$が複素数$z=x+yi$と対応している, と考えることもできる.\n",
    "\n",
    "以後, 複素数$z=x+yi$と点$(x, y)$を同一視して考える."
   ]
  },
  {
   "cell_type": "code",
   "execution_count": 5,
   "metadata": {
    "slideshow": {
     "slide_type": "skip"
    }
   },
   "outputs": [],
   "source": [
    "JupyterImageResolution = 72;"
   ]
  },
  {
   "cell_type": "markdown",
   "metadata": {
    "slideshow": {
     "slide_type": "slide"
    }
   },
   "source": [
    "### 複素数の絶対値 ###\n",
    "\n",
    "- 原点Oと複素数$z$の間の距離を$|z|$と表し, $z$の<b>絶対値</b>とよぶ.\n",
    "- $z=x+yi$に対し, $|z|=\\sqrt{x^2+y^2}=\\sqrt{z \\bar{z}}$である.\n",
    "- $z=0$ $\\Longleftrightarrow$ $|z|=0$\n",
    "- <b>三角不等式</b> : $z+w|\\le |z|+|w|$, $|z-w|\\ge |z|-|w|$"
   ]
  },
  {
   "cell_type": "markdown",
   "metadata": {
    "slideshow": {
     "slide_type": "slide"
    }
   },
   "source": [
    "### 複素数の偏角 ###\n",
    "\n",
    "- 複素数$z=x+yi$に対し, 点Pを$(x,y)$とする. 線分OPと実軸の正の部分とのなす角を$z$の<b>偏角</b>とよび, $\\arg(z)$と書く.\n",
    "- 偏角は一般角として扱う.\n",
    "- $0$の偏角は考えない（つまり, $\\arg : \\mathbb{C}\\backslash\\{0\\}\\rightarrow \\mathbb{R}$）."
   ]
  },
  {
   "cell_type": "markdown",
   "metadata": {
    "slideshow": {
     "slide_type": "slide"
    }
   },
   "source": [
    "### 複素数の極形式 ###\n",
    "\n",
    "- 複素数$z=x+yi$の絶対値を$r$, 偏角を$\\theta$とすると,\n",
    "$$\n",
    "x=r\\,\\cos\\theta,\\quad\n",
    "y=r\\,\\sin\\theta\n",
    "$$\n",
    "と表される.\n",
    "- つまり, $z=r(\\cos\\theta+i\\,\\sin\\theta)$と書ける. これを$z$の<b>極形式</b>という.\n",
    "- $z=z'$ $\\Longleftrightarrow$ $|z|=|z'|$ かつ $\\arg(z)=\\arg(z')+2n\\pi$"
   ]
  },
  {
   "cell_type": "markdown",
   "metadata": {
    "slideshow": {
     "slide_type": "slide"
    }
   },
   "source": [
    "### 複素数の共役, 演算の幾何的意味 ###\n",
    "\n",
    "- <b>共役複素数</b>：点$(x, y)$（$\\leftrightarrow z=x+yi$）の共役複素数は$(x, -y)$（$\\leftrightarrow \\bar{z}=x-yi$）である. つまり, $z\\mapsto\\bar{z}$は, 実軸に関する対称移動である.\n",
    "よって,\n",
    "$$\n",
    "|\\bar{z}|=|z|,\\quad \\arg(z')=-\\arg(z)\n",
    "$$\n",
    "- <b>和</b>と<b>差</b>：複素数の和（差）は位置ベクトルの和（差）である.\n",
    "- <b>積(1)</b>：三角関数の加法定理より,\n",
    "\\begin{align*}\n",
    "r(\\cos\\theta+i\\,\\sin\\theta)\\cdot r'(\\cos\\theta'+i\\,\\sin\\theta')\n",
    "=&rr'\\left\\{\n",
    "\\cos\\theta\\,\\cos\\theta'+i^2\\sin\\theta\\,\\sin\\theta'\n",
    "+i(\\cos\\theta\\,\\sin\\theta'+\\sin\\theta\\,\\cos\\theta')\n",
    "\\right\\}\\\\\n",
    "=&rr'\\left\\{\n",
    "\\cos\\theta\\,\\cos\\theta'-\\sin\\theta\\,\\sin\\theta'\n",
    "+i(\\cos\\theta\\,\\sin\\theta'+\\sin\\theta\\,\\cos\\theta')\n",
    "\\right\\}\\\\\n",
    "=&rr'\\{\\cos(\\theta+\\theta')+i\\,\\sin(\\theta+\\theta')\\}\n",
    "\\end{align*}\n",
    "が成り立つ.\n",
    "つまり,\n",
    "$$\n",
    "|zz'|=|z|\\,|z'|,\\quad \\arg(zz')=\\arg(z)+\\arg(z')\n",
    "$$\n",
    "- <b>積(2)</b>：$z_1=x_1+i\\,y_1$, $z_2=x_2+i\\,y_2$に対し,\n",
    "$$\n",
    "\\overline{z_1}z_2=(x_1x_2+y_1y_2)+i\\,(x_1y_2-x_2y_1)\n",
    "$$\n",
    "である.\n",
    "つまり, $z_1, z_2$を平面ベクトル$\\left(\\begin{array}{c}x_1\\\\y_1\\end{array}\\right)$, $\\left(\\begin{array}{c}x_2\\\\y_2\\end{array}\\right)$とみなすとき, 右辺の実部はこれらの内積に等しく, 虚部は2つのベクトルを並べた行列の行列式$\\left|\\begin{array}{cc}x_1&x_2\\\\y_1&y_2\\end{array}\\right|$に等しい.\n",
    "- <b>逆数</b>\n",
    "\\begin{align*}\n",
    "\\frac{1}{r(\\cos\\theta+i\\,\\sin\\theta)}\n",
    "=&\\frac{1}{r}\\cdot\\frac{(\\cos\\theta-i\\,\\sin\\theta)}{(\\cos\\theta+i\\,\\sin\\theta)(\\cos\\theta-i\\,\\sin\\theta)}\\\\\n",
    "=&\\frac{1}{r}\\cdot\\frac{(\\cos\\theta-i\\,\\sin\\theta)}{\\cos^2\\theta+\\sin^2\\theta}\\\\\n",
    "=&\\frac{1}{r}\\cdot(\\cos\\theta-i\\,\\sin\\theta)\\\\\n",
    "=&\\frac{1}{r}\\cdot(\\cos(-\\theta)+i\\,\\sin(-\\theta)).\n",
    "\\end{align*}\n",
    "つまり,\n",
    "$$\n",
    "\\left|\\frac{1}{z}\\right|=\\frac{1}{|z|},\\quad\n",
    "\\arg\\left(\\frac{1}{z}\\right)=-\\arg(z)\n",
    "$$\n",
    "- <b>商</b>：積と逆数の結果から,\n",
    "$$\n",
    "\\left|\\frac{z'}{z}\\right|=\\frac{|z'|}{|z|},\\quad\n",
    "\\arg\\left(\\frac{z'}{z}\\right)=\\arg(z')-\\arg(z)\n",
    "$$\n",
    "が成り立つ."
   ]
  },
  {
   "cell_type": "markdown",
   "metadata": {
    "slideshow": {
     "slide_type": "slide"
    }
   },
   "source": [
    "### 極形式の応用：ド・モアブルの定理 ###\n",
    "\n",
    "積の幾何的性質(1)より, 次の公式を得る；\n",
    "\n",
    "$$\n",
    "(\\cos\\theta+i\\,\\sin\\theta)^n=\\cos(n\\theta)+i\\,\\sin(n\\theta)\n",
    "$$\n",
    "$$\n",
    "|z^n|=|z|^n,\\quad\n",
    "\\arg(z^n)=n\\arg(z).\n",
    "$$"
   ]
  },
  {
   "cell_type": "markdown",
   "metadata": {
    "slideshow": {
     "slide_type": "slide"
    }
   },
   "source": [
    "### 極形式の応用：$n$乗根 ###\n",
    "\n",
    "#### 復習 ####\n",
    "- 実数$a$と自然数$n$に対し, 「$x^n=a$を満た実数$x$のこと」を$a$の$n$乗根という．\n",
    "- $n$が偶数のとき：$a>0$ならば, $a$の$n$乗根は正のものと負のものがある. 正の方を$\\sqrt[n]{a}$と書く．\n",
    "- $n$が奇数のとき：$a$の符号に関わらず, ただひとつ存在する. それを$\\sqrt[n]{a}$と書く．\n",
    "\n",
    "上の考えを複素数に拡張する.\n",
    "\n",
    "- $0$でない複素数$z$に対し, 「$w^n=z$を満たす$w$」を$z$の<b>$n$乗根</b>という."
   ]
  },
  {
   "cell_type": "markdown",
   "metadata": {
    "slideshow": {
     "slide_type": "fragment"
    }
   },
   "source": [
    "#### 例：$1$の$n$乗根 ####\n",
    "\n",
    "- $n=3$のとき：$x^3=1$の解. $0=x^3-1=(x-1)(x^2+x+1)$ より, $1$の$３$乗根は$1$と2次方程式$x^2+x+1=0$の解（解の公式より, $\\frac{-1\\pm\\sqrt{3}i}{2}$）．\n",
    "- $n=4$のとき：$x^4=1$の解. $0=x^4-1=(x-1)(x^3+x^2+x+1)$ より, $1$の$4$乗根は$1$と3次方程式$x^3+x^2+x+1=0$の解（どうやって解く？）．"
   ]
  },
  {
   "cell_type": "markdown",
   "metadata": {
    "slideshow": {
     "slide_type": "fragment"
    }
   },
   "source": [
    "#### $n$乗根の求め方 ####\n",
    "\n",
    "- ド・モアブルの定理を利用することで, $z$の$n$乗根を求めることができる.\n",
    "\n",
    "<ol>\n",
    "    <li>$z$を極形式で表す；$z=r(\\cos\\theta+i\\,\\sin\\theta)$</li>\n",
    "    <li>$z$の$n$乗根を$w=\\rho(\\cos\\varphi+i\\,\\sin\\varphi)$とおき, 「$w^n=z$」を$\\rho$, $\\varphi$の方程式に書き直す（ド・モアブルの定理を利用）；\n",
    "    \\begin{align*}\n",
    "    w^n=z\\Longleftrightarrow & \\{\\rho(\\cos\\varphi+i\\,\\sin\\varphi)\\}^n=r(\\cos\\theta+i\\,\\sin\\theta)\\\\\n",
    "        \\Longleftrightarrow & \\rho^n(\\cos(n\\varphi)+i\\,\\sin(n\\varphi))=r(\\cos\\theta+i\\,\\sin\\theta)\\\\\n",
    "        \\Longleftrightarrow &\\left\\{\\begin{array}{l}\\rho^n=r\\\\ n\\varphi=\\theta+2m\\pi\\end{array}\\right.\\\\\n",
    "        \\Longleftrightarrow &\\left\\{\\begin{array}{l}\\rho=\\sqrt[n]{r}\\\\ \\varphi=\\dfrac{\\theta}{n}+\\dfrac{2m\\pi}{n}\\end{array}\\right.\\\\\n",
    "    \\end{align*}\n",
    "    </li>\n",
    "    <li>上の方程式を解く；<br>\n",
    "        $\\rho=\\sqrt[n]{r}$.<br>\n",
    "        一方, $\\varphi$については, $m=0, 1, \\ldots , n-1$までの$n$個の解がある.</li>\n",
    "</ol>"
   ]
  }
 ],
 "metadata": {
  "celltoolbar": "Slideshow",
  "kernelspec": {
   "display_name": "Wolfram Language 12",
   "language": "Wolfram Language",
   "name": "wolframlanguage12"
  },
  "language_info": {
   "codemirror_mode": "python",
   "file_extension": ".m",
   "mimetype": "application/vnd.wolfram.m",
   "name": "Wolfram Language",
   "pygments_lexer": "python",
   "version": "12.0"
  }
 },
 "nbformat": 4,
 "nbformat_minor": 2
}
