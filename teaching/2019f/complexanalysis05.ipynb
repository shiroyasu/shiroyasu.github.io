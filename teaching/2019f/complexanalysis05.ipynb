{
 "cells": [
  {
   "cell_type": "markdown",
   "metadata": {
    "slideshow": {
     "slide_type": "skip"
    }
   },
   "source": [
    "<a href=\"https://shiroyasu.github.io/index.html\">home</a> &#155;&#155; <a href=\"https://shiroyasu.github.io/teaching/index.html\">Teaching</a> &#155;&#155; <a href=\"https://shiroyasu.github.io/teaching/2019f/ca-mpsca.html\">2019 Complex Analysis</a>> &#155;&#155;"
   ]
  },
  {
   "cell_type": "markdown",
   "metadata": {
    "slideshow": {
     "slide_type": "slide"
    }
   },
   "source": [
    "# 複素関数論 (5) #\n",
    "\n",
    "## 正則関数 ##"
   ]
  },
  {
   "cell_type": "markdown",
   "metadata": {
    "slideshow": {
     "slide_type": "slide"
    }
   },
   "source": [
    "### 複素関数の微分 ###\n",
    "\n",
    "-  <b>微分係数</b> $f'(a)=\\dfrac{df}{dz}(a)=\\lim_{z\\rightarrow a}=\\dfrac{f(z)-f(a)}{z-a}=\\lim_{\\Delta z\\rightarrow 0}=\\dfrac{f(a+\\Delta z)-f(a)}{\\Delta z}$\n",
    "- $f'(a)$ が存在するとき，「$f(z)$ は点 $a$ で<b>微分可能</b>である」という．\n",
    "- $f(z)$ が領域 $D$ 内のすべての点 $a$ で微分可能であるとき，「$f(z)$ は領域 $D$ で<b>正則</b>である」といい， $f(z)$ を<b>正則関数</b>または<b>解析関数</b>という．\n",
    "- $f$ を正則関数とする. 点 $a$ に対し， 微分係数 $f'(a)$ を対応させる関数を $f$ の<b>導関数</b>といい， $f'$ と書き表す．\n",
    "- $f(z)$ が点 $a$ で微分可能ならば， $f(z)$ は $a$ で連続である．\n"
   ]
  },
  {
   "cell_type": "markdown",
   "metadata": {
    "slideshow": {
     "slide_type": "slide"
    }
   },
   "source": [
    "### 複素関数の微分の性質 ###\n",
    "\n",
    "- 2つの関数 $f$, $g$ が微分可能であれば，それらの和， 差， 積， 商も微分可能であり,\n",
    "$$\n",
    "(f\\pm g)'=f'\\pm g',\\qquad (fg)'=f'g=fg',\\qquad \\left(\\frac{f}{g}\\right)'=\\frac{f'g-fg'}{g^2}\n",
    "$$\n",
    "- 定数 $\\alpha$ と正則関数 $f(z)$ に対し,\n",
    "$$\n",
    "\\left\\{\\alpha f(z)\\right\\}'=\\alpha\\,f'(z)\n",
    "$$\n",
    "- 2つの関数 $f$, $g$ が微分可能であれば， それらの合成関数 $f\\circ g : z\\mapsto f(g(z))$ も微分可能で，\n",
    "$$(f\\circ g)'(z)=f'(g(z))\\,g'(z)$$\n",
    "- 定数関数 $f(z)=c$ の導関数は, $f'(z)=0$ である.\n",
    "- $f(z)=z^n$（ただし, $n$ は自然数）に対し, $f'(z)=nz^{n-1}$ である.\n"
   ]
  },
  {
   "cell_type": "markdown",
   "metadata": {
    "slideshow": {
     "slide_type": "slide"
    }
   },
   "source": [
    "### コーシー・リーマンの方程式 ###\n",
    "\n",
    "$f(z)=u(x,y)+i\\,v(x,y)$ を領域 $D$ で定義された関数とし， $u, v$ の偏導関数は連続であるとする．\n",
    "このとき，$f(z)$ が $D$ で微分可能，つまり，$f$ が正則であるための必要十分条件は\n",
    "$$\n",
    "\\frac{\\partial u}{\\partial x}=\\frac{\\partial v}{\\partial y},\\quad \\frac{\\partial u}{\\partial y}=-\\frac{\\partial v}{\\partial x}$$\n",
    "である．"
   ]
  },
  {
   "cell_type": "markdown",
   "metadata": {
    "slideshow": {
     "slide_type": "slide"
    }
   },
   "source": [
    "### 正則関数の例 ###"
   ]
  },
  {
   "cell_type": "code",
   "execution_count": 1,
   "metadata": {
    "slideshow": {
     "slide_type": "skip"
    }
   },
   "outputs": [],
   "source": [
    "JupyterImageResolution = 72;"
   ]
  },
  {
   "cell_type": "markdown",
   "metadata": {
    "slideshow": {
     "slide_type": "fragment"
    }
   },
   "source": [
    "#### (I) 有理関数 ####\n"
   ]
  },
  {
   "cell_type": "markdown",
   "metadata": {
    "slideshow": {
     "slide_type": "slide"
    }
   },
   "source": [
    "#### (II) 指数関数 ####\n"
   ]
  },
  {
   "cell_type": "markdown",
   "metadata": {
    "slideshow": {
     "slide_type": "slide"
    }
   },
   "source": [
    "#### (III) 三角関数 ####\n"
   ]
  },
  {
   "cell_type": "markdown",
   "metadata": {
    "slideshow": {
     "slide_type": "slide"
    }
   },
   "source": [
    "#### (IV) 双曲線関数 ####\n"
   ]
  },
  {
   "cell_type": "markdown",
   "metadata": {},
   "source": [
    "#### (V) 対数関数 ####"
   ]
  }
 ],
 "metadata": {
  "celltoolbar": "Slideshow",
  "kernelspec": {
   "display_name": "Wolfram Language 12",
   "language": "Wolfram Language",
   "name": "wolframlanguage12"
  },
  "language_info": {
   "codemirror_mode": "python",
   "file_extension": ".m",
   "mimetype": "application/vnd.wolfram.m",
   "name": "Wolfram Language",
   "pygments_lexer": "python",
   "version": "12.0"
  }
 },
 "nbformat": 4,
 "nbformat_minor": 2
}
