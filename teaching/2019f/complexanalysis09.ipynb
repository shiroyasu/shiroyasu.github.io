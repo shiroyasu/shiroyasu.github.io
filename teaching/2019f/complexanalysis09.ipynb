{
 "cells": [
  {
   "cell_type": "markdown",
   "metadata": {
    "slideshow": {
     "slide_type": "skip"
    }
   },
   "source": [
    "<a href=\"https://shiroyasu.github.io/index.html\">home</a> &#155;&#155; <a href=\"https://shiroyasu.github.io/teaching/index.html\">Teaching</a> &#155;&#155; <a href=\"https://shiroyasu.github.io/teaching/2019f/ca-mpsca.html\">2019 Complex Analysis</a>> &#155;&#155;"
   ]
  },
  {
   "cell_type": "markdown",
   "metadata": {
    "slideshow": {
     "slide_type": "slide"
    }
   },
   "source": [
    "# 複素関数論 (9) #\n",
    "\n",
    "## 留数定理とその応用 ##"
   ]
  },
  {
   "cell_type": "code",
   "execution_count": 2,
   "metadata": {},
   "outputs": [],
   "source": [
    "JupyterImageResolution = 72;"
   ]
  },
  {
   "cell_type": "markdown",
   "metadata": {
    "slideshow": {
     "slide_type": "slide"
    }
   },
   "source": [
    "### 極 ###\n",
    "\n",
    "関数 $f(z)$ をその特異点 $z=a$ でローラン展開すると, ある有限の $k$ に対し,\n",
    "\n",
    "$$\n",
    "f(z)=\\dfrac{b_{-k}}{(z-a)^k}+\\cdots+\\dfrac{b_{-1}}{z-a}+b_0+b_1(z-a)+\\cdots,\\qquad b_{-k}\\ne 0\n",
    "$$\n",
    "\n",
    "となるとする.\n",
    "このとき, $z=a$ を「関数 $f(z)$ の（$k$位の）**極**」という."
   ]
  },
  {
   "cell_type": "markdown",
   "metadata": {
    "slideshow": {
     "slide_type": "slide"
    }
   },
   "source": [
    "$z=a$ を関数 $f(z)$ の$k$位の極とすると, \n",
    "\\begin{align*}\n",
    "f(z)\n",
    "&=\\dfrac{b_{-k}}{(z-a)^k}+\\cdots+\\dfrac{b_{-1}}{z-a}+b_0+b_1(z-a)+\\cdots\\\\\n",
    "&=\\frac{1}{(z-a)^k}\\left\\{b_{-k}+\\cdots+b_{-1}(z-a)^{k-1}+b_0(z-a)^k+b_1(z-a)^{k+1}+\\cdots\\right\\}\\\\\n",
    "&=:\\frac{g(z)}{{(z-a)^k}}\n",
    "\\end{align*}\n",
    "となり, $g(z)$ は $z=a$ の近傍で正則関数となる.\n",
    "\n",
    "逆に, $z=a$ の近傍で正則な関数 $g(z)$ を用いて,\n",
    "$$\n",
    "f(z)=\\frac{g(z)}{(z-a)^k},\\quad g(a)\\ne 0, k>0\n",
    "$$\n",
    "と書けるならば, $f(z)$ は$k$位の極であることがわかる.\n",
    "つまり,"
   ]
  },
  {
   "cell_type": "markdown",
   "metadata": {
    "slideshow": {
     "slide_type": "fragment"
    }
   },
   "source": [
    "#### 定理 9.1. ####\n",
    "\n",
    "$z=a$ が $k$ 位の極 $\\Longleftrightarrow$ $z=a$ の近傍で正則かつ $g(a)\\ne 0$ を満たす関数が存在し, $f(z)=\\dfrac{g(z)}{(z-a)^k}$"
   ]
  },
  {
   "cell_type": "markdown",
   "metadata": {
    "slideshow": {
     "slide_type": "slide"
    }
   },
   "source": [
    "### 真性特異点 ###\n",
    "\n",
    "関数 $f(z)$ をその特異点 $z=a$ でローラン展開すると, 負のべき項の係数のうち, $0$ でないのものが無数にあるとき, $z=a$ を**真性特異点**という."
   ]
  },
  {
   "cell_type": "markdown",
   "metadata": {
    "slideshow": {
     "slide_type": "slide"
    }
   },
   "source": [
    "### 留数 ###\n",
    "\n",
    "点 $z=a$ が関数 $f(z)$ の特異点でなければ, この点を含むある領域 $D$ で $f(z)$ は正則なので, $a$ を内部に含むような $D$ 内の単一閉曲線 $C$ で積分すると, コーシーの定理からその値は $0$ である.\n",
    "\n",
    "$z=a$ を関数 $f(z)$ の特異点とし, $C$ を次の条件 $(\\ast)$ を満たす単一閉曲線とする; 「$(\\ast 1)$ 点 $a$ が $C$ の内部にあり,  かつ $(\\ast 2)$ $C$ の内部から $a$ を取り除いた領域で関数 $f(z)$ は正則」\n",
    "このとき, $\\displaystyle\\frac{1}{2\\pi i}\\int_C f(z)\\,dz$ を「関数 $f(z)$ の特異点 $z=a$ における**留数**」といい, $\\mathrm{Res}[f, a]$ と書く;\n",
    "\n",
    "$$\n",
    "\\mathrm{Res}[f, a]=\\frac{1}{2\\pi i}\\int_C f(z)\\,dz\n",
    "$$\n",
    "\n",
    "上の式の右辺は, 条件 $(\\ast 1), (\\ast 2)$ を満たす単一閉曲線 $C$ の選び方に依らないことに注意せよ."
   ]
  },
  {
   "cell_type": "markdown",
   "metadata": {
    "slideshow": {
     "slide_type": "fragment"
    }
   },
   "source": [
    "#### 定理 9.2. ####\n",
    "\n",
    "留数 $\\mathrm{Res}[f, a]$ は, $f(z)$ の $z=a$ を中心とするローラン展開における係数 $b_{-1}$ である."
   ]
  },
  {
   "cell_type": "markdown",
   "metadata": {
    "slideshow": {
     "slide_type": "slide"
    }
   },
   "source": [
    "### 留数の求め方 ###\n",
    "\n",
    "コーシーの積分表示より, 留数は微分と代入計算（極限操作）によって求めることができる."
   ]
  },
  {
   "cell_type": "markdown",
   "metadata": {
    "slideshow": {
     "slide_type": "fragment"
    }
   },
   "source": [
    "#### 定理 9.3. ####\n",
    "\n",
    "$z=a$ を関数 $f(z)$ の極とする.\n",
    "このとき,\n",
    "\n",
    "1. 位数が $1$ ならば,\n",
    "$$\n",
    "\\mathrm{Res}[f, a]=\\lim_{z\\rightarrow a}[(z-a)f(z)]\n",
    "$$\n",
    "1. 位数が $k>1$ ならば,\n",
    "$$\n",
    "\\mathrm{Res}[f, a]=\\frac{1}{(k-1)!}\\lim_{z\\rightarrow a}\\left(\\frac{d}{dz}\\right)^{k-1}[(z-a)^kf(z)]\n",
    "$$\n",
    "\n",
    "#### 注意 ####\n",
    "「$k$位の極」の概念は, （このページにおいては）この定理以外では必要ないことに注意."
   ]
  },
  {
   "cell_type": "markdown",
   "metadata": {
    "slideshow": {
     "slide_type": "fragment"
    }
   },
   "source": [
    "ある条件を満たす有理関数については, 次の結果が成り立つ;\n",
    "\n",
    "#### 定理 9.4. ####\n",
    "\n",
    "$f(z)=\\dfrac{h(z)}{g(z)}$ について,\n",
    "- $f(z)$ は $z=a$ で正則かつ $f(a)=0$\n",
    "- $g(z)$ は $g(a)=0$ かつ $g'(a)\\ne 0$\n",
    "を満たすとする.\n",
    "\n",
    "このとき, $z=a$ は $f(z)$ の1位の極であり,\n",
    "$$\n",
    "\\mathrm{Res}[f,a]=\\frac{h(a)}{g'(a)}.\n",
    "$$"
   ]
  },
  {
   "cell_type": "markdown",
   "metadata": {
    "slideshow": {
     "slide_type": "slide"
    }
   },
   "source": [
    "### 留数定理 ###\n",
    "\n",
    "以上の議論から, 関数 $f(z)$ の単一閉曲線 $C$ に沿った複素積分は, 留数によって決定されることがわかる."
   ]
  },
  {
   "cell_type": "markdown",
   "metadata": {
    "slideshow": {
     "slide_type": "fragment"
    }
   },
   "source": [
    "#### 定理 9.5. ####\n",
    "\n",
    "関数 $f(z)$ は領域 $D$ で正則で,  $C$ を $D$ 内の単一閉曲線とする.\n",
    "\n",
    "1. $C$ の内部に $f(z)$ の特異点が存在しないとき,\n",
    "$$\n",
    "\\int_C f(z)\\,dz=0\n",
    "$$\n",
    "である.\n",
    "1. $C$ の内部に $f(z)$ の特異点 $a_1, a_2,\\ldots, a_l$ が存在するとき, \n",
    "$$\n",
    "\\int_C f(z)\\,dz=2\\pi i\\left(\\mathrm{Res}[f,a_1]+\\mathrm{Res}[f,a_2]+\\cdots+\\mathrm{Res}[f,a_l]\\right)\n",
    "$$\n",
    "である."
   ]
  },
  {
   "cell_type": "markdown",
   "metadata": {
    "slideshow": {
     "slide_type": "slide"
    }
   },
   "source": [
    "### 複素積分・留数定理の応用（実関数の定積分） ###\n",
    "\n",
    "#### 1. 置換積分の利用 ####\n",
    "\n",
    "原点を中心とする半径1の円周 $C$ に沿った複素積分は\n",
    "$$\\int_C f(z)\\,dz=i\\int^{2\\pi}_0 f(e^{i\\theta})\\,e^{i\\theta}\\,d\\theta$$\n",
    "となる.\n",
    "特に, $f(z)$ が有理関数ならば, 上式の右辺は $\\cos\\theta$ と $\\sin\\theta$ の有理式になる.\n",
    "\n",
    "この逆を利用して, $\\cos\\theta$ と $\\sin\\theta$ の有理式として表される関数の $[0, 2\\pi]$ 区間での定積分を計算する方法を紹介する.\n",
    "\n",
    "有理式 $F(t,s)$ に対し, 定積分\n",
    "$$\n",
    "\\int_0^{2\\pi} F(\\cos\\theta, \\sin\\theta)\\,d\\theta\n",
    "$$\n",
    "は, $z=e^{i\\theta}$ とおくことにより, 積分経路が$C$ の複素積分となる.\n",
    "また, \n",
    "$$\n",
    "\\cos \\theta=\\frac{1}{2}(z+z^{-1}),\\quad\n",
    "\\sin \\theta=\\frac{1}{2i}(z-z^{-1}),\\quad\n",
    "dz=iz d\\theta\n",
    "$$\n",
    "より, 被積分関数は $z$ の有理関数となる."
   ]
  },
  {
   "cell_type": "markdown",
   "metadata": {
    "slideshow": {
     "slide_type": "slide"
    }
   },
   "source": [
    "#### 2. 広義積分 ####\n",
    "\n",
    "計算が困難な広義積分\n",
    "$$\n",
    "\\int^\\infty_{-\\infty} f(x)\\,dx\n",
    "$$\n",
    "を複素積分を利用して計算する方法を考える.\n",
    "上記の定積分が存在するならば,\n",
    "$$\n",
    "\\int^\\infty_{-\\infty} f(x)\\,dx=\\lim_{R\\rightarrow \\infty}\\int^R_{-R}f(x)\\,dx\n",
    "$$\n",
    "とみることができる.\n",
    "\n",
    "実数値関数 $f(x)$ が複素関数 $f(z)$ に拡張できるならば, 積分区間 $[-R, R]$ の定積分は,\n",
    "「関数 $f(z)$ の曲線 $I_R : z(t)=t, -R\\leqq t\\leqq R$ に沿った複素積分」\n",
    "$$\n",
    "\\int_{I_R} f(z)\\,dz\n",
    "$$\n",
    "と解釈できる.\n",
    "\n",
    "原点を中心とし, 半径 $R$ の半円を $\\Gamma_R$ とすれば, $C_R=I_R+\\Gamma_R$ は単一閉曲線となる.\n",
    "よって, 留数定理と以下の補題を利用して, 上の広義積分を計算することができる."
   ]
  },
  {
   "cell_type": "code",
   "execution_count": 19,
   "metadata": {
    "slideshow": {
     "slide_type": "fragment"
    }
   },
   "outputs": [
    {
     "data": {
      "text/html": [
       "<div><img alt=\"Output\" src=\"data:image/png;base64,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\" width=\"360\"></div>"
      ]
     },
     "execution_count": 19,
     "metadata": {
      "text/html": []
     },
     "output_type": "execute_result"
    }
   ],
   "source": [
    "Show[ParametricPlot[{Cos[t],Sin[t]},{t,0,Pi},Axes->None],Graphics[Line[{{-1,0},{1,0}}]]]"
   ]
  },
  {
   "cell_type": "markdown",
   "metadata": {
    "slideshow": {
     "slide_type": "slide"
    }
   },
   "source": [
    "#### 補題 9.6. ####\n",
    "\n",
    "関数 $f(z)$ が, $\\Gamma_R$ 上の点 $z$ に対して, \n",
    "$$(\\ast)\\qquad |f(z)|\\leqq \\dfrac{M}{R^k},\\quad k>1$$\n",
    "が成り立つならば,\n",
    "$$\n",
    "\\lim_{R\\rightarrow\\infty}\\int_{\\Gamma_R}f(z)\\,dz=0\n",
    "$$\n",
    "である."
   ]
  },
  {
   "cell_type": "markdown",
   "metadata": {
    "slideshow": {
     "slide_type": "fragment"
    }
   },
   "source": [
    "#### 補題 9.7. ####\n",
    "\n",
    "$k>1$ に対して, $\\displaystyle\\lim_{z\\rightarrow\\infty} z^k f(z)$ が存在するならば, $(\\ast)$ が成り立つ."
   ]
  },
  {
   "cell_type": "markdown",
   "metadata": {
    "slideshow": {
     "slide_type": "slide"
    }
   },
   "source": [
    "**例題.**　関数 $f(x)=\\dfrac{x^2}{x^4+1}$ に対し, $\\displaystyle I=\\int^\\infty_{-\\infty}f(x)\\,dx$ を求めよ.\n",
    "\n",
    "**（解）**\n",
    "$$\n",
    "I=\\lim_{R\\rightarrow \\infty}\\int_{I_R} f(z)\\,dz=\\lim_{R\\rightarrow \\infty}\\left(\n",
    "\\int_{C_R} f(z)\\,dz-\\int_{\\Gamma_R} f(z)\\,dz\n",
    "\\right)\n",
    "$$\n",
    "とみて, 右辺の各積分値について考える.\n",
    "\n",
    "$$\n",
    "z^4+1\n",
    "=(z^2+i)(z^2-i)\n",
    "=\\left(z-\\frac{1-i}{\\sqrt{2}}\\right)\\left(z+\\frac{1-i}{\\sqrt{2}}\\right)\n",
    "\\left(z-\\frac{1+i}{\\sqrt{2}}\\right)\\left(z+\\frac{1+i}{\\sqrt{2}}\\right)\n",
    "$$\n",
    "より, $f(z)$ の特異点は, $\\dfrac{\\pm1\\pm i}{\\sqrt{2}}$ の4点である."
   ]
  },
  {
   "cell_type": "code",
   "execution_count": 7,
   "metadata": {
    "slideshow": {
     "slide_type": "fragment"
    }
   },
   "outputs": [
    {
     "data": {
      "text/html": [
       "<div><img alt=\"Output\" src=\"data:image/png;base64,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\" width=\"35\"></div>"
      ]
     },
     "execution_count": 7,
     "metadata": {
      "text/html": []
     },
     "output_type": "execute_result"
    }
   ],
   "source": [
    "Re[Sqrt[I]]+I*Im[Sqrt[I]]"
   ]
  },
  {
   "cell_type": "code",
   "execution_count": 10,
   "metadata": {
    "slideshow": {
     "slide_type": "fragment"
    }
   },
   "outputs": [
    {
     "data": {
      "text/html": [
       "<div><img alt=\"Output\" src=\"data:image/png;base64,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\" width=\"35\"></div>"
      ]
     },
     "execution_count": 10,
     "metadata": {
      "text/html": []
     },
     "output_type": "execute_result"
    }
   ],
   "source": [
    "Re[Sqrt[-I]]+I*Im[Sqrt[-I]]"
   ]
  },
  {
   "cell_type": "markdown",
   "metadata": {
    "slideshow": {
     "slide_type": "slide"
    }
   },
   "source": [
    "この4点のうち, 十分大きい半径 $R$ の上半円（つまり上半平面）内に含まれる点は,\n",
    "$z_1=\\dfrac{1+ i}{\\sqrt{2}}$, $z_2=\\dfrac{-1+ i}{\\sqrt{2}}$ の2点なので,\n",
    "留数定理より\n",
    "$$\n",
    "\\int_{C_R} f(z)\\,dz=2\\pi i\\left(\\mathrm{Res}\\left[f,z_1\\right]+\\mathrm{Res}\\left[f,z_2\\right]\\right)\n",
    "$$\n",
    "となる.\n",
    "定理 9.3 より,\n",
    "\\begin{align*}\n",
    "\\mathrm{Res}\\left[f,z_1\\right]\n",
    "=&\\lim_{z\\rightarrow z_1}(z-z_1)f(z)\n",
    "=\\lim_{z\\rightarrow z_1}\\frac{z^2}{(z^2+i)\\left(z+z_1\\right)}\\\\\n",
    "=&\\frac{z_1^2}{(z_1^2+i)\\,2z_1}=\\frac{z_1}{4i}=\\dfrac{1- i}{4\\sqrt{2}}.\n",
    "\\end{align*}\n",
    "※ 定理 9.4 を用いると,\n",
    "$$\n",
    "\\mathrm{Res}\\left[f,z_1\\right]\n",
    "=\\lim_{z\\rightarrow z_1}\\frac{z^2}{(z^4+1)'}\n",
    "=\\lim_{z\\rightarrow z_1}\\frac{z^2}{4z^3}\n",
    "=\\lim_{z\\rightarrow z_1}\\frac{1}{4z}\n",
    "=\\frac{1}{4z_1}=\\dfrac{1- i}{4\\sqrt{2}}.\n",
    "$$\n",
    "同様に,\n",
    "$$\n",
    "\\mathrm{Res}\\left[f,z_2\\right]=\\frac{1}{4z_2}=\\frac{z_2}{4z_2^2}=-\\frac{z_2}{4i}=\\frac{z_2i}{4}=-\\dfrac{1+ i}{4\\sqrt{2}}\n",
    "$$\n",
    "なので,\n",
    "$$\n",
    "\\int_{C_R} f(z)\\,dz=2\\pi i\\left(\\dfrac{1- i}{4\\sqrt{2}}-\\dfrac{1+ i}{4\\sqrt{2}}\\right)\n",
    "=2\\pi i\\left(-\\dfrac{2 i}{4\\sqrt{2}}\\right)=\\dfrac{\\pi}{\\sqrt{2}}.\n",
    "$$\n",
    "一方, $\\displaystyle\\lim_{z\\rightarrow\\infty}z^2f(z)=1$ が成り立つので, 補題 9.6, 9.7 より $\\displaystyle\\lim_{R\\rightarrow \\infty}\\int_{\\Gamma_R}f(z)\\,dz=0$ である. \n",
    "\n",
    "以上のことから, $I=\\pi/\\sqrt{2}$ である."
   ]
  },
  {
   "cell_type": "code",
   "execution_count": 21,
   "metadata": {
    "slideshow": {
     "slide_type": "fragment"
    }
   },
   "outputs": [
    {
     "data": {
      "text/html": [
       "<div><img alt=\"Output\" src=\"data:image/png;base64,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\" width=\"27\"></div>"
      ]
     },
     "execution_count": 21,
     "metadata": {
      "text/html": []
     },
     "output_type": "execute_result"
    }
   ],
   "source": [
    "Integrate[x^2/(x^4+1),{x,-Infinity,Infinity}]"
   ]
  }
 ],
 "metadata": {
  "celltoolbar": "Slideshow",
  "kernelspec": {
   "display_name": "Wolfram Language 12",
   "language": "Wolfram Language",
   "name": "wolframlanguage12"
  },
  "language_info": {
   "codemirror_mode": "python",
   "file_extension": ".m",
   "mimetype": "application/vnd.wolfram.m",
   "name": "Wolfram Language",
   "pygments_lexer": "python",
   "version": "12.0"
  }
 },
 "nbformat": 4,
 "nbformat_minor": 2
}